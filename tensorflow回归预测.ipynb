{
  "nbformat": 4,
  "nbformat_minor": 0,
  "metadata": {
    "colab": {
      "name": "Untitled1.ipynb",
      "provenance": [],
      "authorship_tag": "ABX9TyM1z48z+AGljRHM8FmuVvvP"
    },
    "kernelspec": {
      "name": "python3",
      "display_name": "Python 3"
    },
    "accelerator": "GPU"
  },
  "cells": [
    {
      "cell_type": "code",
      "metadata": {
        "id": "IM-fX0-h_47g",
        "colab_type": "code",
        "colab": {}
      },
      "source": [
        "import tensorflow as tf\n",
        "import numpy as np"
      ],
      "execution_count": 0,
      "outputs": []
    },
    {
      "cell_type": "code",
      "metadata": {
        "id": "dhXVg2JaBhJB",
        "colab_type": "code",
        "colab": {}
      },
      "source": [
        "x_data = np.random.rand(100)\n",
        "y_data = np.array(x_data*3+0.8)\n",
        "#print(x_data)\n",
        "#print(y_data)"
      ],
      "execution_count": 0,
      "outputs": []
    },
    {
      "cell_type": "code",
      "metadata": {
        "id": "_iGwAwjxEuDA",
        "colab_type": "code",
        "colab": {}
      },
      "source": [
        "l_0 = tf.keras.layers.Dense(units = 1, input_shape = [1])"
      ],
      "execution_count": 0,
      "outputs": []
    },
    {
      "cell_type": "code",
      "metadata": {
        "id": "RNFy9BqyFqgX",
        "colab_type": "code",
        "colab": {}
      },
      "source": [
        "model = tf.keras.Sequential(l_0)"
      ],
      "execution_count": 0,
      "outputs": []
    },
    {
      "cell_type": "code",
      "metadata": {
        "id": "dFjBDW9RF9qB",
        "colab_type": "code",
        "colab": {}
      },
      "source": [
        "model.compile(loss = 'mse', optimizer = tf.keras.optimizers.Adam(0.1))"
      ],
      "execution_count": 0,
      "outputs": []
    },
    {
      "cell_type": "code",
      "metadata": {
        "id": "XZ7DkQSYGNXH",
        "colab_type": "code",
        "colab": {
          "base_uri": "https://localhost:8080/",
          "height": 34
        },
        "outputId": "d78b69a7-39c9-4f5f-da8a-816f607d1be0"
      },
      "source": [
        "history = model.fit(x_data, y_data, epochs = 500, verbose = False)\n",
        "print(\"Finished training the model\")"
      ],
      "execution_count": 42,
      "outputs": [
        {
          "output_type": "stream",
          "text": [
            "Finished training the model\n"
          ],
          "name": "stdout"
        }
      ]
    },
    {
      "cell_type": "code",
      "metadata": {
        "id": "UekqsyTCG9sL",
        "colab_type": "code",
        "colab": {
          "base_uri": "https://localhost:8080/",
          "height": 296
        },
        "outputId": "7377314f-6c84-4e03-ecdc-dfbd7058e221"
      },
      "source": [
        "import matplotlib.pyplot as plt\n",
        "plt.xlabel('Epoch Number')\n",
        "plt.ylabel(\"Loss Magnitude\")\n",
        "plt.plot(history.history['loss'])"
      ],
      "execution_count": 43,
      "outputs": [
        {
          "output_type": "execute_result",
          "data": {
            "text/plain": [
              "[<matplotlib.lines.Line2D at 0x7f2c62583550>]"
            ]
          },
          "metadata": {
            "tags": []
          },
          "execution_count": 43
        },
        {
          "output_type": "display_data",
          "data": {
            "image/png": "[encoded data removed]",
            "text/plain": [
              "<Figure size 432x288 with 1 Axes>"
            ]
          },
          "metadata": {
            "tags": []
          }
        }
      ]
    },
    {
      "cell_type": "code",
      "metadata": {
        "id": "BYOZJDS-HnFr",
        "colab_type": "code",
        "colab": {
          "base_uri": "https://localhost:8080/",
          "height": 34
        },
        "outputId": "564f4375-dd75-4b3a-ee9c-75f9fcc8b767"
      },
      "source": [
        "print(model.predict([100.0]))"
      ],
      "execution_count": 44,
      "outputs": [
        {
          "output_type": "stream",
          "text": [
            "[[300.79993]]\n"
          ],
          "name": "stdout"
        }
      ]
    },
    {
      "cell_type": "code",
      "metadata": {
        "id": "r_G0reO4HuGD",
        "colab_type": "code",
        "colab": {
          "base_uri": "https://localhost:8080/",
          "height": 34
        },
        "outputId": "54c44b2e-e818-4846-aad2-6a60a49c309f"
      },
      "source": [
        "print(\"These are the layer variables: {}\".format(l_0.get_weights()))"
      ],
      "execution_count": 45,
      "outputs": [
        {
          "output_type": "stream",
          "text": [
            "These are the layer variables: [array([[2.9999993]], dtype=float32), array([0.80000037], dtype=float32)]\n"
          ],
          "name": "stdout"
        }
      ]
    },
    {
      "cell_type": "code",
      "metadata": {
        "id": "lW05_Hp1QrnH",
        "colab_type": "code",
        "colab": {
          "base_uri": "https://localhost:8080/",
          "height": 238
        },
        "outputId": "c4421cc2-22d5-4ce8-cadf-e1ca7a49c13b"
      },
      "source": [
        "l_0 = tf.keras.layers.Dense(units=4, input_shape=[1])\n",
        "l_1 = tf.keras.layers.Dense(units=4)\n",
        "l_2 = tf.keras.layers.Dense(units=1)\n",
        "model = tf.keras.Sequential([l_0, l_1, l_2])\n",
        "model.compile(loss='mse', optimizer=tf.keras.optimizers.Adam(0.1))\n",
        "model.fit(x_data, y_data, epochs=100, verbose=False)\n",
        "print(\"Finished training the model\")\n",
        "print(model.predict([100.0]))\n",
        "print(\"Model predicts that 100 degrees Celsius is: {} degrees Fahrenheit\".format(model.predict([100.0])))\n",
        "print(\"These are the l0 variables: {}\".format(l_0.get_weights()))\n",
        "print(\"These are the l1 variables: {}\".format(l_1.get_weights()))\n",
        "print(\"These are the l2 variables: {}\".format(l_2.get_weights()))"
      ],
      "execution_count": 52,
      "outputs": [
        {
          "output_type": "stream",
          "text": [
            "Finished training the model\n",
            "[[300.79996]]\n",
            "Model predicts that 100 degrees Celsius is: [[300.79996]] degrees Fahrenheit\n",
            "These are the l0 variables: [array([[0.89781815, 0.9848509 , 0.7713721 , 0.9037795 ]], dtype=float32), array([ 0.04485591, -0.04286721, -0.39005074, -0.20019504], dtype=float32)]\n",
            "These are the l1 variables: [array([[ 0.43552428,  0.2602252 , -0.6894142 , -0.73038983],\n",
            "       [-0.46118936,  0.16520326, -1.1155523 ,  0.21018597],\n",
            "       [-0.06475709,  0.87154025, -0.30412441,  0.07943771],\n",
            "       [ 0.35211575,  0.3194765 , -0.23632023, -0.6954093 ]],\n",
            "      dtype=float32), array([-0.02960134,  0.32027358, -0.37746096, -0.35489956], dtype=float32)]\n",
            "These are the l2 variables: [array([[ 0.08018488],\n",
            "       [ 0.42091075],\n",
            "       [-0.9288875 ],\n",
            "       [-0.39415157]], dtype=float32), array([0.5416383], dtype=float32)]\n"
          ],
          "name": "stdout"
        }
      ]
    }
  ]
}
